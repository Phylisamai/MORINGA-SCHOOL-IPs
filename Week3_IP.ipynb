{
  "nbformat": 4,
  "nbformat_minor": 0,
  "metadata": {
    "colab": {
      "name": "Week3_IP.ipynb",
      "provenance": [],
      "collapsed_sections": [],
      "authorship_tag": "ABX9TyMJL3O9YbEodwMrZtPafiRY",
      "include_colab_link": true
    },
    "kernelspec": {
      "name": "python3",
      "display_name": "Python 3"
    },
    "language_info": {
      "name": "python"
    }
  },
  "cells": [
    {
      "cell_type": "markdown",
      "metadata": {
        "id": "view-in-github",
        "colab_type": "text"
      },
      "source": [
        "<a href=\"https://colab.research.google.com/github/Phylisamai/MORINGA-SCHOOL-WEEK-1/blob/main/Week3_IP.ipynb\" target=\"_parent\"><img src=\"https://colab.research.google.com/assets/colab-badge.svg\" alt=\"Open In Colab\"/></a>"
      ]
    },
    {
      "cell_type": "markdown",
      "metadata": {
        "id": "WHtwWTfZgSLn"
      },
      "source": [
        "1.0. Importing Libraries\n"
      ]
    },
    {
      "cell_type": "code",
      "metadata": {
        "id": "VnWx_IgifwEP"
      },
      "source": [
        "# Importing pandas\n",
        "import pandas as pd\n",
        "# Importing numpy\n",
        "import numpy as np\n"
      ],
      "execution_count": 2,
      "outputs": []
    },
    {
      "cell_type": "markdown",
      "metadata": {
        "id": "k-6P0yyLg2Bf"
      },
      "source": [
        "1.1 Loading Data\n"
      ]
    },
    {
      "cell_type": "code",
      "metadata": {
        "colab": {
          "base_uri": "https://localhost:8080/"
        },
        "id": "T8g4XNZHgyNk",
        "outputId": "4631e544-943d-4969-d2f5-3835fb216f44"
      },
      "source": [
        "import pandas as pd\n",
        "df = pd.read_csv ('cells_geo.csv' , sep = ';')\n",
        "print (df)"
      ],
      "execution_count": 3,
      "outputs": [
        {
          "output_type": "stream",
          "text": [
            "      Unnamed: 0    VILLES      STATUS  ...          AREA     CELL_ID   SITE_CODE\n",
            "0              0    ADJAME  In Service  ...           NaN  fbb2e75af3  0bb492ef17\n",
            "1              1    ADJAME  In Service  ...           NaN  1502501d78  0bb492ef17\n",
            "2              2    ADJAME  In Service  ...           NaN  0c2e182a0c  0bb492ef17\n",
            "3              3   ASSINIE  In Service  ...           NaN  69bdfc69fd  8a1e6ce31f\n",
            "4              4   ASSINIE  In Service  ...           NaN  7a1029d2ab  8a1e6ce31f\n",
            "...          ...       ...         ...  ...           ...         ...         ...\n",
            "3969        3969  ZUENOULA  In Service  ...  CENTRE NORTH  1cfc2d7ab1  f91ed8d2e9\n",
            "3970        3970  ZUENOULA  In Service  ...  CENTRE NORTH  3ae1708153  f91ed8d2e9\n",
            "3971        3971  ZUENOULA  In Service  ...  CENTRE NORTH  cb71f8a29c  61bee9c70c\n",
            "3972        3972  ZUENOULA  In Service  ...  CENTRE NORTH  d4a6a0b645  61bee9c70c\n",
            "3973        3973  ZUENOULA  In Service  ...  CENTRE NORTH  f9f3e42589  61bee9c70c\n",
            "\n",
            "[3974 rows x 12 columns]\n"
          ],
          "name": "stdout"
        }
      ]
    }
  ]
}