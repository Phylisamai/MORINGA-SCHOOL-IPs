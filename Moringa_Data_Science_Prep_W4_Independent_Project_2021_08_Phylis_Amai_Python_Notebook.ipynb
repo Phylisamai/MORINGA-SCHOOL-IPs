{
  "nbformat": 4,
  "nbformat_minor": 0,
  "metadata": {
    "colab": {
      "name": "Moringa_Data_Science_Prep_W4_Independent_Project_2021_08_Phylis_Amai_Python_Notebook",
      "provenance": [],
      "collapsed_sections": [],
      "toc_visible": true,
      "include_colab_link": true
    },
    "kernelspec": {
      "display_name": "Python 3",
      "name": "python3"
    }
  },
  "cells": [
    {
      "cell_type": "markdown",
      "metadata": {
        "id": "view-in-github",
        "colab_type": "text"
      },
      "source": [
        "<a href=\"https://colab.research.google.com/github/Phylisamai/MORINGA-SCHOOL-IPs/blob/main/Moringa_Data_Science_Prep_W4_Independent_Project_2021_08_Phylis_Amai_Python_Notebook.ipynb\" target=\"_parent\"><img src=\"https://colab.research.google.com/assets/colab-badge.svg\" alt=\"Open In Colab\"/></a>"
      ]
    },
    {
      "cell_type": "markdown",
      "metadata": {
        "id": "w3WxqVZI4KWf"
      },
      "source": [
        "**AUTOLIB CAR SHARING USAGE**"
      ]
    },
    {
      "cell_type": "markdown",
      "metadata": {
        "id": "GI7pyenf3bd8"
      },
      "source": [
        "1.0 Importing Libraries\n"
      ]
    },
    {
      "cell_type": "code",
      "metadata": {
        "id": "rC6SEVBh3PxO"
      },
      "source": [
        "# Importing pandas \n",
        "import pandas as pd\n",
        "\n",
        "# Importing numpy\n",
        "import numpy as np"
      ],
      "execution_count": null,
      "outputs": []
    },
    {
      "cell_type": "markdown",
      "metadata": {
        "id": "LeUlRFFr36RJ"
      },
      "source": [
        "1.1 Loading Data\n"
      ]
    },
    {
      "cell_type": "code",
      "metadata": {
        "id": "1JZ4syLm4BUJ"
      },
      "source": [
        "# Load our dataset into the environment\n",
        "data = pd.read_csv"
      ],
      "execution_count": null,
      "outputs": []
    },
    {
      "cell_type": "markdown",
      "metadata": {
        "id": "VN83zqP23Wso"
      },
      "source": [
        ""
      ]
    }
  ]
}